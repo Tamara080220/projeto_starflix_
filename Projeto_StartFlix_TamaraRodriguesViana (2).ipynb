{
 "cells": [
  {
   "cell_type": "markdown",
   "id": "070b769c",
   "metadata": {},
   "source": [
    "# Projeto Start-Flix - Análise de Classificação de Filmes\n",
    "## Tamiris Rodrigues Viana | UNIFECAF\n",
    "Este notebook realiza uma análise exploratória do dataset MovieLens para propor melhorias ao sistema de recomendação da plataforma fictícia Start-Flix."
   ]
  },
  {
   "cell_type": "code",
   "execution_count": null,
   "id": "d5f14881",
   "metadata": {},
   "outputs": [],
   "source": [
    "import pandas as pd\n",
    "import matplotlib.pyplot as plt\n",
    "import seaborn as sns\n",
    "import numpy as np\n",
    "\n",
    "sns.set(style='whitegrid')"
   ]
  },
  {
   "cell_type": "markdown",
   "id": "283f7bfb",
   "metadata": {},
   "source": [
    "## 1. Carregamento do Dataset"
   ]
  },
  {
   "cell_type": "code",
   "execution_count": null,
   "id": "e9039eaa",
   "metadata": {},
   "outputs": [],
   "source": [
    "# Faça upload dos arquivos 'movies.csv' e 'ratings.csv' antes de rodar esta célula.\n",
    "from google.colab import files\n",
    "uploaded = files.upload()"
   ]
  },
  {
   "cell_type": "code",
   "execution_count": null,
   "id": "1d4ed999",
   "metadata": {},
   "outputs": [],
   "source": [
    "movies = pd.read_csv('movies.csv')\n",
    "ratings = pd.read_csv('ratings.csv')"
   ]
  },
  {
   "cell_type": "markdown",
   "id": "2f75cf86",
   "metadata": {},
   "source": [
    "## 2. Visualização Inicial dos Dados"
   ]
  },
  {
   "cell_type": "code",
   "execution_count": null,
   "id": "aa98014a",
   "metadata": {},
   "outputs": [],
   "source": [
    "print(movies.head())\n",
    "print(ratings.head())"
   ]
  },
  {
   "cell_type": "markdown",
   "id": "1ff7890d",
   "metadata": {},
   "source": [
    "## 3. Limpeza de Dados"
   ]
  },
  {
   "cell_type": "code",
   "execution_count": null,
   "id": "78a931b0",
   "metadata": {},
   "outputs": [],
   "source": [
    "print(movies.isnull().sum())\n",
    "print(ratings.isnull().sum())"
   ]
  },
  {
   "cell_type": "markdown",
   "id": "255a7ed6",
   "metadata": {},
   "source": [
    "## 4. Análise Exploratória dos Dados"
   ]
  },
  {
   "cell_type": "code",
   "execution_count": null,
   "id": "9f8d8532",
   "metadata": {},
   "outputs": [],
   "source": [
    "# Quantidade de filmes e avaliações\n",
    "print(f'Total de filmes: {movies.shape[0]}')\n",
    "print(f'Total de avaliações: {ratings.shape[0]}')"
   ]
  },
  {
   "cell_type": "code",
   "execution_count": null,
   "id": "c522d40c",
   "metadata": {},
   "outputs": [],
   "source": [
    "# Top 10 filmes mais avaliados\n",
    "movie_rating_count = ratings['movieId'].value_counts().head(10)\n",
    "top_movies = movies[movies['movieId'].isin(movie_rating_count.index)]\n",
    "top_movies = top_movies.merge(movie_rating_count.rename('rating_count'), left_on='movieId', right_index=True)\n",
    "print(top_movies[['title', 'rating_count']])"
   ]
  },
  {
   "cell_type": "markdown",
   "id": "ab969d29",
   "metadata": {},
   "source": [
    "### Gêneros mais Populares"
   ]
  },
  {
   "cell_type": "code",
   "execution_count": null,
   "id": "297c6359",
   "metadata": {},
   "outputs": [],
   "source": [
    "genres = movies['genres'].str.get_dummies(sep='|')\n",
    "genre_counts = genres.sum().sort_values(ascending=False)\n",
    "plt.figure(figsize=(12,6))\n",
    "genre_counts.plot(kind='bar')\n",
    "plt.title('Frequência de Gêneros')\n",
    "plt.ylabel('Número de Filmes')\n",
    "plt.xlabel('Gênero')\n",
    "plt.xticks(rotation=45)\n",
    "plt.tight_layout()\n",
    "plt.show()"
   ]
  },
  {
   "cell_type": "markdown",
   "id": "46f364ca",
   "metadata": {},
   "source": [
    "### Avaliação Média dos Filmes"
   ]
  },
  {
   "cell_type": "code",
   "execution_count": null,
   "id": "b5d62526",
   "metadata": {},
   "outputs": [],
   "source": [
    "movie_ratings = ratings.groupby('movieId')['rating'].mean().sort_values(ascending=False)\n",
    "top_rated = movie_ratings.head(10).reset_index().merge(movies, on='movieId')\n",
    "plt.figure(figsize=(12,6))\n",
    "plt.barh(top_rated['title'], top_rated['rating'])\n",
    "plt.xlabel('Nota Média')\n",
    "plt.title('Top 10 Filmes com Melhores Notas')\n",
    "plt.gca().invert_yaxis()\n",
    "plt.tight_layout()\n",
    "plt.show()"
   ]
  },
  {
   "cell_type": "markdown",
   "id": "63af9e2c",
   "metadata": {},
   "source": [
    "## 5. Conclusão\n",
    "A análise exploratória dos dados mostra a importância de sistemas de recomendação personalizados. Gêneros como comédia e drama são os mais populares. Filmes com mais avaliações e melhores notas podem ser destaque no sistema. O próximo passo seria implementar algoritmos de recomendação, como filtragem colaborativa e baseada em conteúdo."
   ]
  }
 ],
 "metadata": {},
 "nbformat": 4,
 "nbformat_minor": 5
}